{
 "metadata": {
  "language_info": {
   "codemirror_mode": {
    "name": "ipython",
    "version": 3
   },
   "file_extension": ".py",
   "mimetype": "text/x-python",
   "name": "python",
   "nbconvert_exporter": "python",
   "pygments_lexer": "ipython3",
   "version": "3.9.2"
  },
  "orig_nbformat": 2,
  "kernelspec": {
   "name": "python3",
   "display_name": "Python 3.9.2 64-bit",
   "metadata": {
    "interpreter": {
     "hash": "be4ddd01728b12ec22d14aed9f63f8bd4973e7e850af6e4d6597260e417ef766"
    }
   }
  }
 },
 "nbformat": 4,
 "nbformat_minor": 2,
 "cells": [
  {
   "cell_type": "code",
   "execution_count": 1,
   "metadata": {},
   "outputs": [],
   "source": [
    "import numpy as np"
   ]
  },
  {
   "cell_type": "code",
   "execution_count": 2,
   "metadata": {},
   "outputs": [],
   "source": [
    "class regression:\n",
    "    def __init__(self, x, y): # x, y --> numpy arrays\n",
    "        n = len(x)\n",
    "        self.beta0 = (n*sum(x*y)-sum(x)*sum(y))/(n*sum(x**2)-sum(x)**2)\n",
    "        self.beta1 = (sum(x**2)*sum(y)-sum(x)*sum(x*y))/(n*sum(x**2)-sum(x)**2)\n",
    "        self.x = x\n",
    "        self.y = y\n",
    "\n",
    "    def predict(self, val):\n",
    "        return (self.beta1 + self.beta0*val)\n",
    "\n",
    "    def predictN(self, vals):\n",
    "        aux = []\n",
    "        for i in vals:\n",
    "            aux.append(self.predict(i))\n",
    "        return aux\n",
    "    \n",
    "    def r2(self):\n",
    "        aux = self.predictN(self.x)\n",
    "        avg = np.mean(self.y)\n",
    "        return sum((aux-avg)**2)/sum((self.y-avg)**2)\n",
    "    \n",
    "    def r(self):\n",
    "        return self.r2()**0.5\n",
    "    \n",
    "    def getAllRegParams(self):\n",
    "        return {'b0':self.beta0, 'b1':self.beta1, 'r2': self.r2(), 'r':self.r()}\n",
    "\n",
    "    @classmethod\n",
    "    def from_file(cls, path):\n",
    "        if path.find('.csv') > 0:\n",
    "            f = open(path, \"r\")\n",
    "        else:\n",
    "            f = open(path+'.csv', \"r\")\n",
    "        x = []\n",
    "        y = []\n",
    "        for i in f.read().split():\n",
    "            if (i.count('x'))|(i.count('y'))|(i.count('X'))|(i.count('Y')):\n",
    "                continue\n",
    "            y.append(eval(i.split(',')[0]))\n",
    "            x.append(eval(i.split(',')[1]))\n",
    "        f.close()\n",
    "        r = cls(np.array(x),np.array(y))\n",
    "        return r       "
   ]
  },
  {
   "cell_type": "code",
   "execution_count": 3,
   "metadata": {},
   "outputs": [],
   "source": [
    "x = np.array([1,2,3,4,5])\n",
    "y = np.array([11,15,12,12,16])\n",
    "n = len(x)"
   ]
  },
  {
   "cell_type": "code",
   "execution_count": 4,
   "metadata": {},
   "outputs": [],
   "source": [
    "reg1 = regression(x, y)\n",
    "reg2 = regression.from_file('prueba.csv')"
   ]
  },
  {
   "cell_type": "code",
   "execution_count": 5,
   "metadata": {},
   "outputs": [
    {
     "output_type": "execute_result",
     "data": {
      "text/plain": [
       "(0.26063829787234044,\n",
       " 0.510527470242631,\n",
       " {'b0': 0.7, 'b1': 11.1, 'r2': 0.26063829787234044, 'r': 0.510527470242631},\n",
       " [11.799999999999999, 12.5, 13.2])"
      ]
     },
     "metadata": {},
     "execution_count": 5
    }
   ],
   "source": [
    "reg1.r2(), reg1.r(), reg1.getAllRegParams(), reg1.predictN([1,2,3])"
   ]
  },
  {
   "cell_type": "code",
   "execution_count": 6,
   "metadata": {},
   "outputs": [
    {
     "output_type": "execute_result",
     "data": {
      "text/plain": [
       "(0.26063829787234044,\n",
       " 0.510527470242631,\n",
       " {'b0': 0.7, 'b1': 11.1, 'r2': 0.26063829787234044, 'r': 0.510527470242631},\n",
       " [11.799999999999999, 12.5, 13.2])"
      ]
     },
     "metadata": {},
     "execution_count": 6
    }
   ],
   "source": [
    "reg2.r2(), reg2.r(), reg2.getAllRegParams(), reg2.predictN([1,2,3])"
   ]
  }
 ]
}